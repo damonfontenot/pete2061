{
 "cells": [
  {
   "cell_type": "markdown",
   "metadata": {
    "colab_type": "text",
    "id": "u1YDPNtbdHDj"
   },
   "source": [
    "# Control Structures and Data Frames\n",
    "\n",
    "## PETE 2061 Lab 4 Workbook \n",
    "\n",
    "## THIS IS DUE BY 11:59 PM ON SUNDAY (Sept 22, 2019)\n",
    "\n",
    "<a id='top'></a>"
   ]
  },
  {
   "cell_type": "markdown",
   "metadata": {},
   "source": [
    "1. Paste the url (or link) to the pete2061 folder in your github account in the \"marked down\" cell below. <br>"
   ]
  },
  {
   "cell_type": "markdown",
   "metadata": {},
   "source": [
    "https://github.com/damonfontenot/pete2061"
   ]
  },
  {
   "cell_type": "markdown",
   "metadata": {},
   "source": [
    "2. It is commonly said that one human year is equivalent to 7 dog years. However, this simple conversion fails to recognize that dogs reach adulthood in approximately two years. As a result, some people believe that it is better to count each of the first two human years as 10.5 dog years, and then count each additional human year as 4 dog\n",
    "years. <br>\n",
    "Write a program that implements the conversion from human years to dog years described in the previous paragraph. Ensure that your program works correctly for conversions of less than two human years and for conversions of two or more human years. Your program should generate a random number between 0 and 10. <br>\n",
    "Hints: <br>\n",
    "a. Remember that you can generate a random number between 0 and 1 using the function numpy.random.random(1)<br>\n",
    "b. You can scale this random number to go from 0 to 10 by multiplying it by 10<br>\n",
    "c. At this point what you have is a random floating-point number that goes from 0 to 10. You need to convert this floating-point number to an integer using the int() function."
   ]
  },
  {
   "cell_type": "code",
   "execution_count": 1,
   "metadata": {},
   "outputs": [],
   "source": [
    "import numpy as np"
   ]
  },
  {
   "cell_type": "code",
   "execution_count": 2,
   "metadata": {},
   "outputs": [
    {
     "name": "stdout",
     "output_type": "stream",
     "text": [
      "4\n",
      "29 Years\n"
     ]
    }
   ],
   "source": [
    "dogage=10*np.random.random(1)\n",
    "t=int(dogage)\n",
    "print(t)\n",
    "if t <= 2:\n",
    "    x=t*10.5\n",
    "elif t>2:\n",
    "    x=((t-2)*4)+21\n",
    "print(f\"{x} Years\")"
   ]
  },
  {
   "cell_type": "markdown",
   "metadata": {},
   "source": [
    "3. For Students A through J, generate 10 different random numbers between 0 and 100. Create a dataframe to store the student names in the first column (called \"Name\"), and store the scores in the second column called \"Score\".\n",
    "   Print out the mean, standard deviation and maximum of the scores, as well as the index of the student with this maximum score. "
   ]
  },
  {
   "cell_type": "code",
   "execution_count": 3,
   "metadata": {},
   "outputs": [],
   "source": [
    "import pandas as pd"
   ]
  },
  {
   "cell_type": "code",
   "execution_count": 28,
   "metadata": {},
   "outputs": [
    {
     "data": {
      "text/html": [
       "<div>\n",
       "<style scoped>\n",
       "    .dataframe tbody tr th:only-of-type {\n",
       "        vertical-align: middle;\n",
       "    }\n",
       "\n",
       "    .dataframe tbody tr th {\n",
       "        vertical-align: top;\n",
       "    }\n",
       "\n",
       "    .dataframe thead th {\n",
       "        text-align: right;\n",
       "    }\n",
       "</style>\n",
       "<table border=\"1\" class=\"dataframe\">\n",
       "  <thead>\n",
       "    <tr style=\"text-align: right;\">\n",
       "      <th></th>\n",
       "      <th>Name</th>\n",
       "      <th>Score</th>\n",
       "    </tr>\n",
       "  </thead>\n",
       "  <tbody>\n",
       "    <tr>\n",
       "      <th>0</th>\n",
       "      <td>A</td>\n",
       "      <td>56</td>\n",
       "    </tr>\n",
       "    <tr>\n",
       "      <th>1</th>\n",
       "      <td>B</td>\n",
       "      <td>78</td>\n",
       "    </tr>\n",
       "    <tr>\n",
       "      <th>2</th>\n",
       "      <td>C</td>\n",
       "      <td>55</td>\n",
       "    </tr>\n",
       "    <tr>\n",
       "      <th>3</th>\n",
       "      <td>D</td>\n",
       "      <td>94</td>\n",
       "    </tr>\n",
       "    <tr>\n",
       "      <th>4</th>\n",
       "      <td>E</td>\n",
       "      <td>60</td>\n",
       "    </tr>\n",
       "    <tr>\n",
       "      <th>5</th>\n",
       "      <td>F</td>\n",
       "      <td>70</td>\n",
       "    </tr>\n",
       "    <tr>\n",
       "      <th>6</th>\n",
       "      <td>G</td>\n",
       "      <td>23</td>\n",
       "    </tr>\n",
       "    <tr>\n",
       "      <th>7</th>\n",
       "      <td>H</td>\n",
       "      <td>13</td>\n",
       "    </tr>\n",
       "    <tr>\n",
       "      <th>8</th>\n",
       "      <td>I</td>\n",
       "      <td>79</td>\n",
       "    </tr>\n",
       "    <tr>\n",
       "      <th>9</th>\n",
       "      <td>J</td>\n",
       "      <td>31</td>\n",
       "    </tr>\n",
       "  </tbody>\n",
       "</table>\n",
       "</div>"
      ],
      "text/plain": [
       "  Name  Score\n",
       "0    A     56\n",
       "1    B     78\n",
       "2    C     55\n",
       "3    D     94\n",
       "4    E     60\n",
       "5    F     70\n",
       "6    G     23\n",
       "7    H     13\n",
       "8    I     79\n",
       "9    J     31"
      ]
     },
     "execution_count": 28,
     "metadata": {},
     "output_type": "execute_result"
    }
   ],
   "source": [
    "labels = ['A','B','C','D','E','F','G','H','I','J']\n",
    "mylist.astype(int)\n",
    "mylist = np.array((100)*np.random.random(10))\n",
    "newlist=mylist.astype(int)\n",
    "table=pd.Series(data=newlist,index=labels)\n",
    "grades=pd.DataFrame({'Name':labels, 'Score':newlist})\n",
    "grades"
   ]
  },
  {
   "cell_type": "code",
   "execution_count": 31,
   "metadata": {},
   "outputs": [
    {
     "name": "stdout",
     "output_type": "stream",
     "text": [
      "Mean is 55.9\n",
      "Standard Deviation is 7.881060278357927\n",
      "Maximum value is 94\n"
     ]
    }
   ],
   "source": [
    "import math as mt\n",
    "mean=((sum(newlist)/10))\n",
    "print(f\"Mean is {mean}\")\n",
    "standd=mt.sqrt(((sum(newlist))/9))\n",
    "print(f\"Standard Deviation is {standd}\")\n",
    "print(f\"Maximum value is {np.max(newlist)}\")"
   ]
  },
  {
   "cell_type": "markdown",
   "metadata": {},
   "source": [
    "4. Write a program that begins by reading a score in percentage (%) from the user. Then your program should compute and display the equivalent letter grade. Ensure that your program generates an appropriate error message if the user enters an invalid score.\n",
    "Use the grading scale on your syllabus. These scores are typed in below."
   ]
  },
  {
   "cell_type": "code",
   "execution_count": 114,
   "metadata": {},
   "outputs": [
    {
     "name": "stdout",
     "output_type": "stream",
     "text": [
      "[]\n"
     ]
    }
   ],
   "source": [
    "letterGrade = ['A+','A','A-','B+','B','B-','C+','C','C-','D+','D','D-']\n",
    "scores = [97,93,90,87,83,80,77,73,70,67,63,60]\n",
    "# A score of less than 60 gets a letter grade of F\n",
    "\n",
    "gradeslist=[]\n",
    "print(gradeslist)"
   ]
  },
  {
   "cell_type": "code",
   "execution_count": 123,
   "metadata": {},
   "outputs": [
    {
     "name": "stdout",
     "output_type": "stream",
     "text": [
      "['F', 'F']\n"
     ]
    }
   ],
   "source": [
    "if newlist.all() >=97:\n",
    "    gradeslist.append(\"A+\")\n",
    "elif newlist.all() < 97 and newlist.all()>= 93:\n",
    "    gradeslist.append(\"A\")\n",
    "elif newlist.all() < 93 and newlist.all()>= 90:\n",
    "    gradeslist.append(\"A-\")\n",
    "elif newlist.all() < 90 and newlist.all()>= 87:\n",
    "    gradeslist.append(\"B+\")\n",
    "elif newlist.all() < 87 and newlist.all()>= 83:\n",
    "    gradeslist.append(\"B\")\n",
    "elif newlist.all() < 83 and newlist.all()>= 80:\n",
    "    gradeslist.append(\"B-\")\n",
    "elif newlist.all() < 80 and newlist.all()>= 77:\n",
    "    gradeslist.append(\"C+\")\n",
    "elif newlist.all() < 77 and newlist.all()>= 73:\n",
    "    gradeslist.append(\"C\")\n",
    "elif newlist.all() < 73 and newlist.all()>= 70:\n",
    "    gradeslist.append(\"C-\")\n",
    "elif newlist.all() < 70 and newlist.all()>= 67:\n",
    "    gradeslist.append(\"D+\")\n",
    "elif newlist.all() < 67 and newlist.all()>= 63:\n",
    "    gradeslist.append(\"D\")\n",
    "elif newlist.all() < 63 and newlist.all()>= 60:\n",
    "    gradeslist.append(\"D-\")\n",
    "elif newlist.all() <60:\n",
    "    gradeslist.append(\"F\")\n",
    "print(gradeslist)"
   ]
  },
  {
   "cell_type": "markdown",
   "metadata": {},
   "source": [
    "5. Write a program that generates 10 random integers, and then prints the largest odd number that was entered. If no odd number was entered it should print a message to that effect. <br>\n",
    "Hints: <br>\n",
    "    a. Use pseudo-code. <br>\n",
    "    b. Generate a random number using the code below:<br>\n",
    "    myRandInt = np.random.randint(low=1, high=20, size=10)<br>\n",
    "    c. Initialize an empty list to contain the odd numbers. Name this list oddInt <br>\n",
    "    d. Within your for loop, you can append odd numbers to this empty list using the append function. eg: <br>\n",
    "    oddInt.append(\"The current odd number from the list should be put in here!\")"
   ]
  },
  {
   "cell_type": "code",
   "execution_count": 37,
   "metadata": {},
   "outputs": [],
   "source": [
    "import numpy as np\n",
    "myRandInt = np.random.randint(low=1, high=20, size=10)"
   ]
  },
  {
   "cell_type": "code",
   "execution_count": 53,
   "metadata": {},
   "outputs": [
    {
     "name": "stdout",
     "output_type": "stream",
     "text": [
      "[ 5  5 14 18  9  4 15  7  7 14]\n",
      "[0, 0, 0, 0, 0, 0, 0]\n"
     ]
    }
   ],
   "source": [
    "ints=np.random.randint(1,20,10)\n",
    "print(ints)\n",
    "oddint=([0,0,0,0,0,0,0])\n",
    "print(oddint)\n",
    "if ints.any()%2==0:\n",
    "    oddint.append(oddint)"
   ]
  },
  {
   "cell_type": "code",
   "execution_count": null,
   "metadata": {},
   "outputs": [],
   "source": []
  }
 ],
 "metadata": {
  "colab": {
   "collapsed_sections": [
    "sYQs3O-6dHFb",
    "8sIJ4A57dHFk",
    "_73RPOcBdHFn",
    "h9s2tfPcdHFo",
    "zt4YHVYPdHGR"
   ],
   "include_colab_link": true,
   "name": "Copy of intro-python-colab.ipynb",
   "provenance": [],
   "version": "0.3.2"
  },
  "kernelspec": {
   "display_name": "Python 3",
   "language": "python",
   "name": "python3"
  },
  "language_info": {
   "codemirror_mode": {
    "name": "ipython",
    "version": 3
   },
   "file_extension": ".py",
   "mimetype": "text/x-python",
   "name": "python",
   "nbconvert_exporter": "python",
   "pygments_lexer": "ipython3",
   "version": "3.7.3"
  }
 },
 "nbformat": 4,
 "nbformat_minor": 1
}
