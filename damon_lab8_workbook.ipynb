{
 "cells": [
  {
   "cell_type": "markdown",
   "metadata": {
    "colab_type": "text",
    "id": "u1YDPNtbdHDj"
   },
   "source": [
    "\n",
    "#  Inferential Statistics\n",
    "\n",
    "## PETE 2061 Lab 8 Workbook \n",
    "\n",
    "## THIS IS DUE BY 11:59 PM TODAY (Oct 14, 2019)"
   ]
  },
  {
   "cell_type": "markdown",
   "metadata": {},
   "source": [
    "1. **Using the example in \"lab8_inferential_stats.ipynb\", write a Python code to compute the confidence interval for the winning percentage of Ed Orgeron based on \"poll-larger.csv\", and show that he is the likely winner within a 95% confidence interval**\n",
    "2. Type out:\n",
    "    * (a) the 95% confidence interval\n",
    "    * (b) the point estimate\n",
    "    * (c) the margin of error."
   ]
  },
  {
   "cell_type": "code",
   "execution_count": 13,
   "metadata": {},
   "outputs": [],
   "source": [
    "import math\n",
    "import io\n",
    "import numpy as np\n",
    "import pandas as pd\n",
    "import matplotlib\n",
    "import matplotlib.pyplot as plt\n",
    "import scipy.stats\n",
    "import scipy.optimize\n",
    "import scipy.spatial"
   ]
  },
  {
   "cell_type": "code",
   "execution_count": 14,
   "metadata": {},
   "outputs": [],
   "source": [
    "newpoll = pd.read_csv('poll-larger.csv')\n",
    "newpoll['vote'].value_counts(normalize=True)\n",
    "def sample(OrgeronWinPercent,n=1000):\n",
    "    return pd.DataFrame({'vote': np.where(np.random.rand(n) < OrgeronWinPercent,'Orgeron','Saban')})"
   ]
  },
  {
   "cell_type": "code",
   "execution_count": 20,
   "metadata": {},
   "outputs": [
    {
     "data": {
      "text/plain": [
       "<matplotlib.axes._subplots.AxesSubplot at 0x1a1e17c9d0>"
      ]
     },
     "execution_count": 20,
     "metadata": {},
     "output_type": "execute_result"
    },
    {
     "data": {
      "image/png": "[encoded data removed]",
      "text/plain": [
       "<Figure size 432x288 with 1 Axes>"
      ]
     },
     "metadata": {
      "needs_background": "light"
     },
     "output_type": "display_data"
    }
   ],
   "source": [
    "newDF = pd.DataFrame({'Orgeron': [sample(0.50,1000)['vote'].value_counts(normalize=True)['Orgeron'] for i in range(10000)]})\n",
    "newDF['Orgeron'].plot(kind='hist', histtype='step', bins=20)"
   ]
  },
  {
   "cell_type": "code",
   "execution_count": 18,
   "metadata": {},
   "outputs": [
    {
     "data": {
      "text/plain": [
       "12.379999999999995"
      ]
     },
     "execution_count": 18,
     "metadata": {},
     "output_type": "execute_result"
    }
   ],
   "source": [
    "100 - scipy.stats.percentileofscore(newDF['Orgeron'],0.5181)"
   ]
  },
  {
   "cell_type": "code",
   "execution_count": 27,
   "metadata": {},
   "outputs": [],
   "source": [
    "def samplingdist(OrgeronWinPercent,n=1000):\n",
    "    return pd.DataFrame([sample(OrgeronWinPercent,n)['vote'].value_counts(normalize=True) for i in range(1000)])\n",
    "def quantiles(OrgeronWinPercent,n=1000):\n",
    "    secDF = samplingdist(OrgeronWinPercent,n)\n",
    "    return secDF['Orgeron'].quantile(0.025), secDF['Orgeron'].quantile(0.975)"
   ]
  },
  {
   "cell_type": "code",
   "execution_count": 50,
   "metadata": {},
   "outputs": [
    {
     "data": {
      "text/plain": [
       "<matplotlib.lines.Line2D at 0x1a1e410350>"
      ]
     },
     "execution_count": 50,
     "metadata": {},
     "output_type": "execute_result"
    },
    {
     "data": {
      "image/png": "[encoded data removed]",
      "text/plain": [
       "<Figure size 432x288 with 1 Axes>"
      ]
     },
     "metadata": {
      "needs_background": "light"
     },
     "output_type": "display_data"
    }
   ],
   "source": [
    "thirdDF = samplingdist(0.5,10000)\n",
    "thirdDF['Orgeron'].plot(kind='hist', histtype='step')\n",
    "plt.axvline(thirdDF['Orgeron'].quantile(0.025), c='g',linestyle='-')\n",
    "plt.axvline(thirdDF['Orgeron'].quantile(0.500), c='g')\n",
    "plt.axvline(thirdDF['Orgeron'].quantile(0.975), c='g',linestyle='-')"
   ]
  },
  {
   "cell_type": "code",
   "execution_count": 54,
   "metadata": {},
   "outputs": [],
   "source": [
    "interval=quantiles(0.5)"
   ]
  },
  {
   "cell_type": "code",
   "execution_count": 53,
   "metadata": {},
   "outputs": [
    {
     "name": "stdout",
     "output_type": "stream",
     "text": [
      "The 95% confidence interval is (0.488975, 0.548).\n",
      "The point estimate is 5%\n",
      "The margin of error is 1%\n"
     ]
    }
   ],
   "source": [
    "print(f\"The 95% confidence interval is {interval}.\")\n",
    "print(\"The point estimate is 5%\")\n",
    "print(\"The margin of error is 1%\")"
   ]
  },
  {
   "cell_type": "code",
   "execution_count": null,
   "metadata": {},
   "outputs": [],
   "source": []
  }
 ],
 "metadata": {
  "colab": {
   "collapsed_sections": [
    "sYQs3O-6dHFb",
    "8sIJ4A57dHFk",
    "_73RPOcBdHFn",
    "h9s2tfPcdHFo",
    "zt4YHVYPdHGR"
   ],
   "include_colab_link": true,
   "name": "Copy of intro-python-colab.ipynb",
   "provenance": [],
   "version": "0.3.2"
  },
  "kernelspec": {
   "display_name": "Python 3",
   "language": "python",
   "name": "python3"
  },
  "language_info": {
   "codemirror_mode": {
    "name": "ipython",
    "version": 3
   },
   "file_extension": ".py",
   "mimetype": "text/x-python",
   "name": "python",
   "nbconvert_exporter": "python",
   "pygments_lexer": "ipython3",
   "version": "3.7.4"
  }
 },
 "nbformat": 4,
 "nbformat_minor": 1
}
